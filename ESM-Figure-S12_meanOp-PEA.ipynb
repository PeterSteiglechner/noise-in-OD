{
 "cells": [
  {
   "cell_type": "code",
   "execution_count": null,
   "metadata": {},
   "outputs": [],
   "source": [
    "import xarray as xr\n",
    "import matplotlib.pyplot as plt\n",
    "import pandas as pd\n",
    "import numpy as np\n",
    "import matplotlib as mpl\n",
    "from scipy import stats \n",
    "import math\n",
    "import seaborn as sns\n",
    "sns.set_style()\n",
    "\n",
    "plt.rcParams.update({\n",
    "    #\"text.usetex\": True,\n",
    "    \"font.family\": \"sans-serif\",\n",
    "    \"font.sans-serif\": [\"Helvetica\"]})\n",
    "#plt.rc('text.latex', preamble=r'\\usepackage{color}')\n",
    "smallfs = 8\n",
    "bigfs = 10\n",
    "\n",
    "plt.rcParams.update({'font.size': smallfs, 'axes.titlesize':smallfs})\n",
    "plt.rc('axes', labelsize=smallfs)    # fontsize of the x and y labels\n",
    "plt.rc('legend',fontsize=smallfs)\n",
    "plt.rc('xtick', labelsize=smallfs)    # fontsize of the tick labels\n",
    "plt.rc('ytick', labelsize=smallfs)    # fontsize of the tick labels\n",
    "\n"
   ]
  },
  {
   "cell_type": "code",
   "execution_count": null,
   "metadata": {},
   "outputs": [],
   "source": [
    "fname = \"../../data/ms2-noise/model_highRes_standard2G-6AMInitial_seeds0-1000.ncdf\"\n",
    "data6AM = xr.open_dataset(fname, engine=\"netcdf4\")"
   ]
  },
  {
   "cell_type": "code",
   "execution_count": null,
   "metadata": {},
   "outputs": [
    {
     "data": {
      "image/png": "[encoded data removed]",
      "text/plain": [
       "<Figure size 255.118x226.772 with 2 Axes>"
      ]
     },
     "metadata": {},
     "output_type": "display_data"
    }
   ],
   "source": [
    "cmap=\"viridis\"; \n",
    "vmax=0.7; vmin=0.5\n",
    "#ticks=[0,0.05,0.1,0.15,0.2]; \n",
    "ticks = [0.5, 0.55, 0.6, 0.65, 0.7]\n",
    "extend=\"max\"\n",
    "uniformIC = False\n",
    "fig = plt.figure()\n",
    "ax1 = plt.axes()\n",
    "a = data6AM.sel({\"t\":1e5}).mean(dim=\"id\").x\n",
    "if uniformIC:\n",
    "    cbarlabel = r\"mean opinion\"+r\" $\\overline{x}$ at $t=10^5$\"+\"\\n\"\n",
    "if uniformIC:\n",
    "    a = abs(a-0.5)\n",
    "c=a.mean(dim=\"seed\").plot(ax=ax1, add_colorbar=False, vmax=vmax,vmin=vmin, cmap=cmap) \n",
    "cb = plt.colorbar(c, extend=extend, ticks=ticks, shrink=1.0, aspect=20, pad=0.025)\n",
    "cb.set_label(cbarlabel, size=smallfs)\n",
    "cb.outline.set_edgecolor('k')\n",
    "cb.ax.tick_params(labelsize=smallfs)\n",
    "cb.outline.set_edgecolor('k')\n",
    "ax1.set_xlim(0,0.3)\n",
    "ax1.set_ylim(0.4,0.0)\n",
    "ax1.set_ylabel(r\"confidence bound $\\epsilon$\", fontsize=smallfs)\n",
    "ax1.text(-0.07,0.125,r\"weak\"+\"\\n\"+r\"bias\", ha=\"right\", va=\"center\", transform=ax1.transAxes, fontsize=smallfs)\n",
    "ax1.text(-0.07,0.875,r\"strong\"+\"\\n\"+r\"bias\", ha=\"right\", va=\"center\", transform=ax1.transAxes, fontsize=smallfs)\n",
    "ax1.text(0.05, -0.12,r\"low\", ha=\"left\", va=\"center\", transform=ax1.transAxes, fontsize=smallfs)\n",
    "ax1.text(0.95, -0.12,r\"high\", ha=\"right\", va=\"center\", transform=ax1.transAxes, fontsize=smallfs)\n",
    "ax1.set_yticks([0,0.1,0.2,0.3,0.4])\n",
    "ax1.set_xlabel(r\"noise $\\nu$\", fontsize=smallfs)\n",
    "ax1.set_title(r\"\")\n",
    "ax1.tick_params(direction='out')\n",
    "ax1.tick_params(bottom=True, left=True)\n",
    "for sp in ax1.spines: ax1.spines[sp].set_color(\"k\")\n",
    "fig.set_size_inches(9/2.54, 8/2.54, forward=True)\n",
    "plt.subplots_adjust(left=0.08*2-0.005, bottom=0.15, top=0.95, right=0.85)\n",
    "plt.savefig(\"figs/meanOp_ambiguity_2G-6AM.png\",dpi=600)\n",
    "plt.savefig(\"figs/meanOp_ambiguity_2G-6AM.pdf\")\n",
    "    \n",
    "\n"
   ]
  }
 ],
 "metadata": {
  "language_info": {
   "name": "python"
  }
 },
 "nbformat": 4,
 "nbformat_minor": 2
}

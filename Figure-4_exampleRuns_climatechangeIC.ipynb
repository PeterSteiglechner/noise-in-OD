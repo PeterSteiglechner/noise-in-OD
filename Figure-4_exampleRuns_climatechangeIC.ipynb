{
 "cells": [
  {
   "cell_type": "code",
   "execution_count": 1,
   "metadata": {},
   "outputs": [],
   "source": [
    "import xarray as xr\n",
    "import matplotlib.pyplot as plt\n",
    "import pandas as pd\n",
    "import numpy as np\n",
    "import matplotlib as mpl\n",
    "from scipy import stats \n",
    "import string\n",
    "import seaborn as sns\n",
    "sns.set_style()\n",
    "\n",
    "plt.rcParams.update({\n",
    "    #\"text.usetex\": True,\n",
    "    \"font.family\": \"sans-serif\",\n",
    "    \"font.sans-serif\": [\"Helvetica\"]})\n",
    "#plt.rc('text.latex', preamble=r'\\usepackage{color}')\n",
    "smallfs = 8\n",
    "bigfs = 10\n",
    "\n",
    "plt.rcParams.update({'font.size': bigfs, 'axes.titlesize':bigfs})\n",
    "plt.rc('axes', labelsize=bigfs)    # fontsize of the x and y labels\n",
    "plt.rc('legend',fontsize=smallfs)\n",
    "plt.rc('xtick', labelsize=smallfs)    # fontsize of the tick labels\n",
    "plt.rc('ytick', labelsize=smallfs)    # fontsize of the tick labels\n",
    "\n"
   ]
  },
  {
   "cell_type": "code",
   "execution_count": 2,
   "metadata": {},
   "outputs": [
    {
     "name": "stdout",
     "output_type": "stream",
     "text": [
      "[0.05, 0.175, 0.3] [0.05, 0.08, 0.13, 0.2]\n"
     ]
    }
   ],
   "source": [
    "from model import epsarrs, nuarrs\n",
    "print(epsarrs[\"SA\"], nuarrs[\"SA\"])\n",
    "\n",
    "# should be [0.05, 0.175, 0.3] [0.05, 0.08, 0.13, 0.2]"
   ]
  },
  {
   "cell_type": "code",
   "execution_count": 3,
   "metadata": {},
   "outputs": [],
   "source": [
    "nu=0.08\n",
    "bc = 0.175\n",
    "ic = \"2G-6AM\"\n",
    "seeds=[1,7, 5,6]\n",
    "cmap = plt.get_cmap(\"magma_r\")\n",
    "cmap.set_under(\"gainsboro\")\n",
    "def plot(nu, bc, ic, seeds):\n",
    "    bins = np.linspace(0,1,41)\n",
    "    fig, axs = plt.subplots(1,len(seeds), figsize=(16/2.54, 6/2.54), sharex=True, sharey=True)\n",
    "    noise_type = \"ambiguity\"\n",
    "    for ax, seed in zip(axs.flatten(), seeds):\n",
    "        a = xr.open_dataset(f\"../../data/ms2_noise-in-OD/model-{noise_type}Noise_singleRes_{ic}Initial_eps{bc:.3f}_seeds0-9.ncdf\", engine=\"netcdf4\")\n",
    "        m = a.sel({\"bc\":bc, \"nu\":nu, \"mu\":a.mu, \"seed\":seed, \"t\":[k*1e4 for k in np.arange(1,10)]}).x.mean(dim=\"id\").values[0]\n",
    "        ss = a.sel({\"bc\":bc, \"nu\":nu, \"mu\":a.mu, \"seed\":seed, \"t\":[k*1e4 for k in np.arange(1,10)]}).x.std(dim=\"id\").values[0]\n",
    "        print(f\"mean op, seed {seed}: {[f'{mm:.3f}' for mm in m]}\")\n",
    "        print(f\"std dev op, seed {seed}: {[f'{sss:.3f}' for sss in ss]}\")\n",
    "        heatm = [] \n",
    "        for t in a.t:\n",
    "            c, b = np.histogram(a.sel({\"bc\":bc, \"nu\":nu, \"mu\":a.mu, \"seed\":seed, \"t\":t}).x, bins=bins)\n",
    "            heatm.append(c)\n",
    "        X, Y = np.meshgrid(a.t.values, bins[:-1]+np.diff(bins)[0]/2)\n",
    "        ax.pcolormesh(X, Y, np.array(heatm).T, cmap=\"magma_r\", shading=\"nearest\", vmin=1)\n",
    "        \n",
    "        ax.set_xlabel(\"\")\n",
    "        ax.set_ylabel(\"\")\n",
    "        ax.set_title(\"\")\n",
    "        ax.set_xscale(\"log\")\n",
    "        ax.set_xlim(10,1e5)\n",
    "        #ax.set_title(f\"{noise_type} noise\", fontsize=bigfs)\n",
    "        #ax.set_xticks([0,2e4,4e4,6e4,8e4, 1e5])\n",
    "        #ax.set_xticklabels([\"0\",\"0.2e5\",\"0.4e5\",\"0.6e5\",\"0.8e5\", \"1e5\"])\n",
    "    #axs[0].set_ylim(0,1)\n",
    "    axs[0].set_yticks([0,0.5,1])\n",
    "    axs[0].set_xlim(1000,1e5)\n",
    "   \n",
    "    letters = string.ascii_lowercase[:6]\n",
    "    for n, ax in enumerate(axs):\n",
    "        ax.set_xlabel(r\"time $t$\", fontsize=bigfs, x=1 if len(seeds)==4 else 0.5)\n",
    "        yLabel = 1.03\n",
    "        ax.text(-0.01, yLabel, rf\"({letters[n]})\", style=\"italic\", color=\"k\", fontsize=bigfs, va=\"bottom\", ha=\"left\", transform=ax.transAxes)\n",
    "\n",
    "    #axs[0].set_xlabel(r\"time $t$\", fontsize=bigfs)\n",
    "    axs[0].set_ylabel(r\"opinion space\", fontsize=bigfs)\n",
    "\n",
    "    return fig, axs"
   ]
  },
  {
   "cell_type": "code",
   "execution_count": 4,
   "metadata": {},
   "outputs": [],
   "source": [
    "# nu=0.08\n",
    "# bc = 0.175\n",
    "# ic = \"2G-6AM\"\n",
    "# ictext = \"calibrated initial opinions (see figure 3)\"\n",
    "# seeds=[1,7, 5,6]\n",
    "# fig, axs = plot(nu, bc, ic, seeds)\n",
    "# axs[1].set_title(fr\"Simulations with $\\epsilon={bc:.3f}$ and $\\nu={nu:.2f}$, {ictext}\", fontsize=bigfs, x=1, y=1.1)\n",
    "# fig.subplots_adjust(top=0.87, right=0.97, left=0.1, bottom=0.12, hspace=0.05, wspace=0.18)\n",
    "\n",
    "# plt.savefig(f\"figs/singles_ambiguity-4Seeds_{ic}_bc{bc:.3f}-nu{nu:.3f}_4seeds_hist2D.png\", dpi=600)    "
   ]
  },
  {
   "cell_type": "code",
   "execution_count": 5,
   "metadata": {},
   "outputs": [
    {
     "name": "stdout",
     "output_type": "stream",
     "text": [
      "mean op, seed 1: ['0.628', '0.695', '0.645', '0.771', '0.743', '0.791', '0.822', '0.832', '0.786']\n",
      "std dev op, seed 1: ['0.241', '0.245', '0.193', '0.076', '0.067', '0.061', '0.049', '0.047', '0.054']\n",
      "mean op, seed 3: ['0.625', '0.613', '0.527', '0.512', '0.461', '0.496', '0.458', '0.429', '0.501']\n",
      "std dev op, seed 3: ['0.052', '0.061', '0.059', '0.061', '0.055', '0.056', '0.049', '0.053', '0.054']\n",
      "mean op, seed 6: ['0.724', '0.732', '0.725', '0.711', '0.690', '0.701', '0.741', '0.765', '0.813']\n",
      "std dev op, seed 6: ['0.192', '0.141', '0.143', '0.146', '0.126', '0.124', '0.112', '0.126', '0.134']\n"
     ]
    },
    {
     "name": "stderr",
     "output_type": "stream",
     "text": [
      "findfont: Font family ['sans-serif'] not found. Falling back to DejaVu Sans.\n",
      "findfont: Generic family 'sans-serif' not found because none of the following families were found: Helvetica\n",
      "findfont: Font family ['sans-serif'] not found. Falling back to DejaVu Sans.\n",
      "findfont: Generic family 'sans-serif' not found because none of the following families were found: Helvetica\n",
      "findfont: Font family ['sans-serif'] not found. Falling back to DejaVu Sans.\n",
      "findfont: Generic family 'sans-serif' not found because none of the following families were found: Helvetica\n"
     ]
    },
    {
     "data": {
      "image/png": "[encoded data removed]",
      "text/plain": [
       "<Figure size 453.543x170.079 with 3 Axes>"
      ]
     },
     "metadata": {
      "needs_background": "light"
     },
     "output_type": "display_data"
    }
   ],
   "source": [
    "nu=0.08\n",
    "bc = 0.175\n",
    "ic = \"2G-6AM\"\n",
    "text =\"\"# \" ($a_5$ in figure 3$a$)\"\n",
    "ictext = \"and calibrated initial conditions\"\n",
    "seeds=[1,3, 6]  \n",
    "fig, axs = plot(nu, bc, ic, seeds)\n",
    "axs[1].set_title(fr\"Simulations with $\\epsilon={bc:.3f}$ and $\\nu={nu:.2f}${text} {ictext}\", fontsize=bigfs, x=1 if len(seeds)==4 else 0.5, y=1.1)\n",
    "fig.subplots_adjust(top=0.84, right=0.97, left=0.08, bottom=0.175, hspace=0.05, wspace=0.18)\n",
    "\n",
    "plt.savefig(f\"figs/singles_ambiguity-3Seeds_{ic}_bc{bc:.3f}-nu{nu:.3f}_hist2D.png\", dpi=600)    \n",
    "plt.savefig(f\"figs/singles_ambiguity-3Seeds_{ic}_bc{bc:.3f}-nu{nu:.3f}_hist2D.pdf\")    "
   ]
  },
  {
   "cell_type": "markdown",
   "metadata": {},
   "source": []
  }
 ],
 "metadata": {
  "kernelspec": {
   "display_name": "phd1",
   "language": "python",
   "name": "python3"
  },
  "language_info": {
   "codemirror_mode": {
    "name": "ipython",
    "version": 3
   },
   "file_extension": ".py",
   "mimetype": "text/x-python",
   "name": "python",
   "nbconvert_exporter": "python",
   "pygments_lexer": "ipython3",
   "version": "3.9.5"
  }
 },
 "nbformat": 4,
 "nbformat_minor": 2
}
